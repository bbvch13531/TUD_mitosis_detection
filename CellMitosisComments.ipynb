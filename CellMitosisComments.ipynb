{
 "cells": [
  {
   "cell_type": "markdown",
   "metadata": {},
   "source": [
    "# Stage of Mitosis Detection in Cell\n",
    "\n",
    "Mitosis is when a mother cell splits into two genetically similar daughter cells. There are several stages to this:\n",
    "- Interphase\n",
    "- Prophase\n",
    "- Metaphase\n",
    "- Anaphase\n",
    "- Telophase\n",
    "- Cytokensis\n",
    "\n",
    "The main objective of this project is to be able to identify when cell is in:\n",
    "- Interphase\n",
    "- Metaphase\n",
    "- Anaphase"
   ]
  },
  {
   "cell_type": "markdown",
   "metadata": {},
   "source": [
    "# Methods:\n",
    "\n",
    "### compareROI: Compare the nucleus in the video to our reference image to determine mitosis stage\n",
    "#### Parameters:\n",
    "- Binary mask of frame from video\n",
    "- x coordinate of bounding rectangle of nucleus\n",
    "- y coordinate of bounding rectangle of nucleus\n",
    "- width of bounding rectangle of nucleus\n",
    "- height of bounding rectangle of nucleus\n",
    "\n",
    "#### Algorithm:\n",
    "- Crop ROI from mask of video\n",
    "- For each reference image compare the cropped ROI to the shape of the reference image using cv2.matchShapes\n",
    "- If it's the first image then set that as the closest match and save the index\n",
    "- If matchShapes returns smaller value then change the value\n",
    "- Return the index of the closest match\n",
    "\n",
    "This function is called for each frame of the video"
   ]
  },
  {
   "cell_type": "markdown",
   "metadata": {},
   "source": [
    "# The Algorithm"
   ]
  },
  {
   "cell_type": "markdown",
   "metadata": {},
   "source": [
    "1. Process reference images\n",
    "2. Load the video\n",
    "3. Identify cells/nucleus using thresholding and contours\n",
    "4. Box the cells\n",
    "5. Compare boxed cells to reference image using matchShapes in compareROI\n",
    "6. Name the stage of mitosis of cell based on the index returned from compareROI\n",
    "7. Repeat for each frame until finished"
   ]
  },
  {
   "cell_type": "code",
   "execution_count": 1,
   "metadata": {},
   "outputs": [],
   "source": [
    "import cv2\n",
    "import numpy as np\n",
    "from matplotlib import pyplot as plt\n",
    "from matplotlib import image as image\n",
    "import easygui\n",
    "\n",
    "ref_strings = ['interphase_ref2_focus.jpg', 'metaphase_ref_focus.jpg', 'anaphase_ref_focus.jpg']\n",
    "ref_images = []\n",
    "\n",
    "for i in range(0,len(ref_strings)):\n",
    "    ref_image = cv2.imread(ref_strings[i])\n",
    "    G = cv2.cvtColor(ref_image, cv2.COLOR_BGR2GRAY)\n",
    "    ret,thresh = cv2.threshold(G, 127, 255, cv2.THRESH_BINARY_INV)\n",
    "    shape = cv2.getStructuringElement(cv2.MORPH_ELLIPSE, (5,5))\n",
    "    CloseRef = cv2.morphologyEx(thresh, cv2.MORPH_CLOSE, shape, iterations=2)\n",
    "    OpenRef = cv2.morphologyEx(CloseRef, cv2.MORPH_OPEN, shape, iterations=2)\n",
    "    OpenRef = cv2.resize(OpenRef, (100,100))\n",
    "    ref_images.append(OpenRef)\n",
    "\n",
    "def compareROI(mask, roix, roiy, roiw, roih): # Compares binary images for shape, smaller diff value means more of a match\n",
    "    match = 0\n",
    "    ROI = cv2.resize(mask[roiy:roiy+roih, roix:roix+roiw], (100,100))\n",
    "    for i in range(0,len(ref_images)):\n",
    "        diff = cv2.matchShapes(ROI, ref_images[i], 1, 0.0)\n",
    "        \n",
    "        if i == 0 or match > diff:\n",
    "            match = diff\n",
    "            index = i\n",
    "            \n",
    "    return index\n",
    "\n",
    "# Video capture from a file:\n",
    "vid = easygui.fileopenbox(filetypes=[\".mp4\"])\n",
    "Video = cv2.VideoCapture(vid)\n",
    "(check, I) = Video.read()\n",
    "\n",
    "stage_string = ['Interphase', 'Metaphase', 'Anaphase']\n",
    "\n",
    "while check:\n",
    "    ret,thresh = cv2.threshold(I[:,:,2], 100, 255, cv2.THRESH_BINARY+cv2.THRESH_OTSU) # Otsu is auto-global thresholding\n",
    "    shape = cv2.getStructuringElement(cv2.MORPH_ELLIPSE, (5,5))\n",
    "    dilated = cv2.dilate(thresh, shape, iterations=2)\n",
    "    Close = cv2.morphologyEx(dilated, cv2.MORPH_CLOSE, shape)\n",
    "    contours = cv2.findContours(Close, cv2.RETR_EXTERNAL, cv2.CHAIN_APPROX_SIMPLE)\n",
    "    contours = contours[0] if len(contours) == 2 else contours[1]\n",
    "    #I = cv2.drawContours(I, cnts, -1, (0, 255, 0), 1)\n",
    "    for c in contours: # for each contour bound a rectangle and send for comparison\n",
    "        x,y,w,h = cv2.boundingRect(c)\n",
    "        cv2.rectangle(I, (x, y), (x + w, y + h), (255,0,0), 2)\n",
    "        stage = compareROI(Close, x, y, w, h)\n",
    "        cv2.putText(I, stage_string[stage], (x, y-10), cv2.FONT_HERSHEY_SIMPLEX, 0.5, (255,0,0), 2)\n",
    "    #cut = cv2.bitwise_and(I, I, mask=Close)\n",
    "    \n",
    "    cv2.imshow(\"mask\", Close)\n",
    "    cv2.imshow(\"frame\", I)\n",
    "    #cv2.imshow(\"og\", I)\n",
    "    \n",
    "    # This delays while waiting for a key to be pressed\n",
    "    key = cv2.waitKey(100)\n",
    "\n",
    "    # if the 'q' key is pressed, quit:\n",
    "    if key == ord(\"q\"):\n",
    "         break\n",
    "\n",
    "    # Next Frame:\n",
    "    (check, I) = Video.read()\n",
    "\n",
    "Video.release()\n",
    "cv2.waitKey(0)\n",
    "cv2.destroyAllWindows()"
   ]
  },
  {
   "cell_type": "markdown",
   "metadata": {},
   "source": []
  }
 ],
 "metadata": {
  "kernelspec": {
   "display_name": "Python 3",
   "language": "python",
   "name": "python3"
  },
  "language_info": {
   "codemirror_mode": {
    "name": "ipython",
    "version": 3
   },
   "file_extension": ".py",
   "mimetype": "text/x-python",
   "name": "python",
   "nbconvert_exporter": "python",
   "pygments_lexer": "ipython3",
   "version": "3.8.5"
  }
 },
 "nbformat": 4,
 "nbformat_minor": 4
}
