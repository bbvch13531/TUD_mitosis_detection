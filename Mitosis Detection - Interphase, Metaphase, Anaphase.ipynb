{
 "cells": [
  {
   "cell_type": "markdown",
   "metadata": {},
   "source": [
    "# Mitosis Detection - Group Assessment - IDSP1704\n",
    "\n",
    "### Scott Donnelly, Louis Chavez, Kyungyoung Her\n",
    "\n",
    "----------------------------------------------------------------------------\n",
    "\n",
    "*The purpose of our assignment is to use OpenCV and Python to identify the stages of mitosis in a microscopy video.*\n",
    "\n",
    "----------------------------------------------------------------------------"
   ]
  },
  {
   "cell_type": "markdown",
   "metadata": {},
   "source": [
    "## Import Libraries, import video and declare variables.\n",
    "\n",
    "### Run this first! "
   ]
  },
  {
   "cell_type": "code",
   "execution_count": 7,
   "metadata": {},
   "outputs": [],
   "source": [
    "import cv2\n",
    "import numpy as np\n",
    "from matplotlib import pyplot as plt\n",
    "from matplotlib import image as image\n",
    "\n",
    "# Importing test video\n",
    "vid = cv2.VideoCapture('mitosiscell360.mp4')\n",
    "(check, frame) = vid.read()\n",
    "frame_counter = 0\n",
    "stage_string = ['Interphase', 'Metaphase', 'Anaphase']"
   ]
  },
  {
   "cell_type": "markdown",
   "metadata": {},
   "source": [
    "## Define functions"
   ]
  },
  {
   "cell_type": "code",
   "execution_count": 8,
   "metadata": {},
   "outputs": [],
   "source": [
    "def createRefMasks():\n",
    "    \"\"\"\n",
    "    This function is used to create masks from reference images of the phases to be identifed.\n",
    "    - Interphase\n",
    "    - Metaphase\n",
    "    - Anaphase\n",
    "        \n",
    "    These masks are then used for shape comparison to objects tracked in the input video\n",
    "    \"\"\"\n",
    "    ref_strings = ['interphase_ref2_focus.jpg', 'metaphase_ref_focus.jpg', 'anaphase_ref_focus.jpg']\n",
    "    ref_images = []\n",
    "\n",
    "    for i in range(0,len(ref_strings)):\n",
    "        ref_image = cv2.imread(ref_strings[i])\n",
    "        G = cv2.cvtColor(ref_image, cv2.COLOR_BGR2GRAY)\n",
    "        ret,thresh = cv2.threshold(G, 140, 235, cv2.THRESH_BINARY_INV)\n",
    "        shape = cv2.getStructuringElement(cv2.MORPH_ELLIPSE, (5,5))\n",
    "        CloseRef = cv2.morphologyEx(thresh, cv2.MORPH_CLOSE, shape, iterations=2)\n",
    "        OpenRef = cv2.morphologyEx(CloseRef, cv2.MORPH_OPEN, shape, iterations=2)\n",
    "        OpenRef = cv2.resize(OpenRef, (100,100))\n",
    "        ref_images.append(OpenRef)\n",
    "        cv2.imshow(\"ref\", OpenRef)\n",
    "        cv2.waitKey(0)\n",
    "        \n",
    "    return ref_images\n",
    "        \n",
    "        \n",
    "def compareROI(ref_images,mask, x, y, w, h):\n",
    "    \"\"\"\n",
    "    This function uses the OpenCV matchShapes() function to compare the shapes found in the\n",
    "    video frames with the masks made from reference images. The index returned is to identify the\n",
    "    labels used on the video.\n",
    "    \"\"\"\n",
    "    match = 0\n",
    "    for i in range(0,len(ref_images)):\n",
    "        ROI = cv2.resize(mask[y:y+h, x:x+w], (100,100))\n",
    "        diff = cv2.matchShapes(ROI, ref_images[i], 1, 0.0)\n",
    "        if i == 0 or match > diff:\n",
    "            match = diff\n",
    "            index = i\n",
    "            \n",
    "    return index"
   ]
  },
  {
   "cell_type": "markdown",
   "metadata": {},
   "source": [
    "## Main Function"
   ]
  },
  {
   "cell_type": "code",
   "execution_count": 9,
   "metadata": {},
   "outputs": [],
   "source": [
    "\n",
    "ref_images = createRefMasks()\n",
    "\n",
    "while(True):\n",
    "    \n",
    "    # Continuous Video Loop\n",
    "    frame_counter += 1\n",
    "    if frame_counter == vid.get(cv2.CAP_PROP_FRAME_COUNT):\n",
    "        frame_counter = 0\n",
    "        vid.set(cv2.CAP_PROP_POS_FRAMES, 0)\n",
    "    \n",
    "    # Thresholding and object detection on the video frames\n",
    "    ret,thresh = cv2.threshold(frame[:,:,2], 100, 255, cv2.THRESH_BINARY + cv2.THRESH_OTSU) # Otsu is auto-global thresholding\n",
    "    shape = cv2.getStructuringElement(cv2.MORPH_ELLIPSE, (5,5))\n",
    "    dilated = cv2.dilate(thresh, shape, iterations=2)\n",
    "    Close = cv2.morphologyEx(dilated, cv2.MORPH_CLOSE, shape)\n",
    "    contours, _ = cv2.findContours(Close, cv2.RETR_EXTERNAL, cv2.CHAIN_APPROX_SIMPLE)\n",
    "    \n",
    "    # Loop to detect shapes and draw the rectangles and label the phases for each frame.\n",
    "    for c in contours:\n",
    "        if cv2.contourArea(c) > 1000:\n",
    "            # Epsilon is the maximum distance from contour to approx contour\n",
    "            # Epsilon = error_rate * actual_arc_length\n",
    "            \n",
    "            epsilon = 0.01 * cv2.arcLength(c, True)\n",
    "            approx = cv2.approxPolyDP(c, epsilon, True)\n",
    "            \n",
    "            # PolyDP provides accurate contouring and object detection.\n",
    "            frame = cv2.drawContours(frame, [approx], 0, (0,255,0), 1)\n",
    "\n",
    "            rect = max(contours,key = cv2.contourArea)\n",
    "            x,y,w,h = cv2.boundingRect(c)\n",
    "            stage = compareROI(ref_images, Close, x, y, w, h)\n",
    "            cv2.putText(frame, stage_string[stage], (x, y-10), cv2.FONT_HERSHEY_SIMPLEX, 0.5, (250,120,0), 2)\n",
    "            frame = cv2.rectangle(frame,(x,y),(x+w,y+h),(250,120,0),2)\n",
    "    \n",
    "    cv2.imshow(\"Masking\", Close)\n",
    "    cv2.imshow(\"Video\", frame)\n",
    "    # Slows the frame rate.\n",
    "    cv2.waitKey(50)\n",
    "    \n",
    "    # This delays while waiting for a key to be pressed\n",
    "    key = cv2.waitKey(50)\n",
    "\n",
    "    # If the 'q' key is pressed, quit:\n",
    "    if key == ord(\"q\"):\n",
    "         break\n",
    "            \n",
    "    # Next Frame:\n",
    "    (check, frame) = vid.read()\n",
    "\n",
    "    \n",
    "#Release video and close windows after the loop ends.    \n",
    "vid.release()\n",
    "cv2.waitKey(0)\n",
    "cv2.destroyAllWindows()\n"
   ]
  },
  {
   "cell_type": "code",
   "execution_count": null,
   "metadata": {},
   "outputs": [],
   "source": []
  }
 ],
 "metadata": {
  "kernelspec": {
   "display_name": "Python 3",
   "language": "python",
   "name": "python3"
  },
  "language_info": {
   "codemirror_mode": {
    "name": "ipython",
    "version": 3
   },
   "file_extension": ".py",
   "mimetype": "text/x-python",
   "name": "python",
   "nbconvert_exporter": "python",
   "pygments_lexer": "ipython3",
   "version": "3.7.4"
  }
 },
 "nbformat": 4,
 "nbformat_minor": 4
}
