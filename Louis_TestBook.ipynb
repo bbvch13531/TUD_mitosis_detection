{
 "cells": [
  {
   "cell_type": "markdown",
   "metadata": {},
   "source": [
    "#### To-Do\n",
    "1. Identify cells in frame\n",
    "2. Find reference images for different stages - get shape of chromosomes for comparison: https://stackoverflow.com/questions/55529371/opencv-shape-matching-between-two-similar-shapes\n",
    "\n",
    "#### Proposed Algorithm:\n",
    "1. Get input frame\n",
    "2. Identify cells\n",
    "3. Segment chromosome areas of cells to get shape\n",
    "4. Compare shapes to reference shape\n",
    "5. Draw box and label cells"
   ]
  },
  {
   "cell_type": "code",
   "execution_count": 19,
   "metadata": {},
   "outputs": [],
   "source": [
    "import cv2\n",
    "import numpy as np\n",
    "from matplotlib import pyplot as plt\n",
    "from matplotlib import image as image\n",
    "import easygui"
   ]
  },
  {
   "cell_type": "markdown",
   "metadata": {},
   "source": [
    "#### Segment nuclues from reference images"
   ]
  },
  {
   "cell_type": "code",
   "execution_count": 28,
   "metadata": {},
   "outputs": [
    {
     "data": {
      "text/plain": [
       "<matplotlib.image.AxesImage at 0x1a80f118580>"
      ]
     },
     "execution_count": 28,
     "metadata": {},
     "output_type": "execute_result"
    },
    {
     "data": {
      "image/png": "[encoded data removed]",
      "text/plain": [
       "<Figure size 432x288 with 1 Axes>"
      ]
     },
     "metadata": {
      "needs_background": "light"
     },
     "output_type": "display_data"
    }
   ],
   "source": [
    "interphase_ref = cv2.imread('interphase_ref.jpg')\n",
    "#interphase_ref2 = cv2.imread('interphase_ref2.jpg')\n",
    "\n",
    "interphase_ref = cv2.resize(interphase_ref, (400,320))\n",
    "\n",
    "#G = cv2.cvtColor(interphase_ref, cv2.COLOR_BGR2GRAY)\n",
    "G2 = cv2.cvtColor(interphase_ref2, cv2.COLOR_BGR2GRAY)\n",
    "\n",
    "#ret,thresh = cv2.threshold(G, 127, 255, cv2.THRESH_BINARY_INV)\n",
    "ret,thresh2 = cv2.threshold(G2, 127, 255, cv2.THRESH_BINARY_INV)\n",
    "\n",
    "shape = cv2.getStructuringElement(cv2.MORPH_ELLIPSE, (5,5))\n",
    "\n",
    "Close = cv2.morphologyEx(thresh2, cv2.MORPH_CLOSE, shape, iterations=2)\n",
    "Open = cv2.morphologyEx(Close, cv2.MORPH_OPEN, shape, iterations=2)\n",
    "\n",
    "test = Open[65:110,25:65]\n",
    "\n",
    "test = cv2.resize(test, (100,100))\n",
    "\n",
    "#cv2.imshow(\"gray\", G)\n",
    "#cv2.imshow(\"thresh\", thresh)\n",
    "cv2.imshow(\"gray2\", G2)\n",
    "cv2.imshow(\"thresh2\", thresh2)\n",
    "cv2.imshow(\"open\", Open)\n",
    "cv2.imshow(\"test\", test)\n",
    "cv2.waitKey(0)\n",
    "cv2.destroyAllWindows()\n",
    "\n",
    "plt.imshow(Open,cmap='gray')"
   ]
  },
  {
   "cell_type": "markdown",
   "metadata": {},
   "source": [
    "#### Open video"
   ]
  },
  {
   "cell_type": "code",
   "execution_count": 23,
   "metadata": {},
   "outputs": [],
   "source": [
    "# Video capture from a file:\n",
    "Video = cv2.VideoCapture(\"mitosiscell360.mp4\")\n",
    "(check, I) = Video.read()\n",
    "(check2, I2) = Video.read()\n",
    "(check3, I3) = Video.read()\n",
    "\n",
    "#cv2.imshow(\"frame\",I)\n",
    "#cv2.imshow(\"frame2\", I2)\n",
    "#cv2.imshow(\"frame3\", I3)\n",
    "\n",
    "count = int(0)\n",
    "\n",
    "while check:\n",
    "    ret,thresh = cv2.threshold(I[:,:,2], 100, 255, cv2.THRESH_BINARY+cv2.THRESH_OTSU)\n",
    "    shape = cv2.getStructuringElement(cv2.MORPH_ELLIPSE, (5,5))\n",
    "    dilated = cv2.dilate(thresh, shape, iterations=2)\n",
    "    Close = cv2.morphologyEx(dilated, cv2.MORPH_CLOSE, shape)\n",
    "    cut = cv2.bitwise_and(I, I, mask=Close)\n",
    "    \n",
    "    cv2.imshow(\"mask\", Close)\n",
    "    cv2.imshow(\"frame\", cut)\n",
    "    #cv2.imshow(\"og\", I)\n",
    "    \n",
    "    # This delays for 1ms while waiting for a key to be pressed\n",
    "    key = cv2.waitKey(100)\n",
    "\n",
    "    # if the 'q' key is pressed, quit:\n",
    "    if key == ord(\"q\"):\n",
    "         break\n",
    "\n",
    "    # Next Frame:\n",
    "    (check, I) = Video.read()\n",
    "\n",
    "Video.release()\n",
    "cv2.waitKey(0)\n",
    "cv2.destroyAllWindows()"
   ]
  },
  {
   "cell_type": "markdown",
   "metadata": {},
   "source": [
    "#### Segment nuclues from video input"
   ]
  },
  {
   "cell_type": "markdown",
   "metadata": {},
   "source": [
    "- Binarization on red channel"
   ]
  },
  {
   "cell_type": "code",
   "execution_count": 17,
   "metadata": {},
   "outputs": [
    {
     "name": "stdout",
     "output_type": "stream",
     "text": [
      "0.00047775917949444136\n"
     ]
    },
    {
     "data": {
      "text/plain": [
       "<matplotlib.image.AxesImage at 0x1a80ef30af0>"
      ]
     },
     "execution_count": 17,
     "metadata": {},
     "output_type": "execute_result"
    },
    {
     "data": {
      "image/png": "[encoded data removed]",
      "text/plain": [
       "<Figure size 432x288 with 1 Axes>"
      ]
     },
     "metadata": {
      "needs_background": "light"
     },
     "output_type": "display_data"
    }
   ],
   "source": [
    "#gray = cv2.cvtColor(I, cv2.COLOR_BGR2GRAY)\n",
    "\n",
    "#H = cv2.equalizeHist(gray)\n",
    "\n",
    "Video = cv2.VideoCapture(\"mitosiscell360.mp4\")\n",
    "(check, I) = Video.read()\n",
    "\n",
    "#ret,thresh = cv2.threshold(I[:,:,2], 100, 255, cv2.THRESH_BINARY)\n",
    "ret,othresh = cv2.threshold(I[:,:,2], 0, 255, cv2.THRESH_BINARY+cv2.THRESH_OTSU)\n",
    "\n",
    "shape = cv2.getStructuringElement(cv2.MORPH_ELLIPSE, (5,5))\n",
    "\n",
    "dilated = cv2.dilate(othresh, shape, iterations=3)\n",
    "\n",
    "Close = cv2.morphologyEx(dilated, cv2.MORPH_CLOSE, shape)\n",
    "\n",
    "test2 = cv2.resize(Close[60:185,175:290], (100,100))\n",
    "\n",
    "diff = cv2.matchShapes(test,test2,1, 0.0)\n",
    "\n",
    "print(diff)\n",
    "\n",
    "cv2.imshow(\"dilate\", dilated)\n",
    "cv2.imshow(\"close\", Close)\n",
    "cv2.imshow(\"test\", test)\n",
    "cv2.imshow(\"test2\", test2)\n",
    "#cv2.imshow(\"gray\", gray)\n",
    "#cv2.imshow(\"thresh\", thresh)\n",
    "cv2.imshow(\"otsu\", othresh)\n",
    "#cv2.imshow(\"equalised\", H)\n",
    "Video.release()\n",
    "cv2.waitKey(0)\n",
    "cv2.destroyAllWindows()\n",
    "\n",
    "plt.imshow(Close, cmap='gray')"
   ]
  },
  {
   "cell_type": "markdown",
   "metadata": {},
   "source": [
    "- Colored Based"
   ]
  },
  {
   "cell_type": "code",
   "execution_count": 9,
   "metadata": {},
   "outputs": [],
   "source": [
    "Video = cv2.VideoCapture(\"mitosiscell360.mp4\")\n",
    "(check, I) = Video.read()\n",
    "\n",
    "hsv = cv2.cvtColor(I, cv2.COLOR_BGR2HSV)\n",
    "\n",
    "b = I[:,:,0]\n",
    "g = I[:,:,1]\n",
    "r = I[:,:,2]\n",
    "\n",
    "UpperLimit = (0,0,255)\n",
    "LowerLimit = (0,0,50)\n",
    "\n",
    "B = cv2.inRange(I, LowerLimit, UpperLimit)\n",
    "\n",
    "shape = cv2.getStructuringElement(cv2.MORPH_ELLIPSE, (5,5))\n",
    "\n",
    "dilated = cv2.dilate(B, shape, iterations=5)\n",
    "\n",
    "Close = cv2.morphologyEx(dilated, cv2.MORPH_CLOSE, shape, iterations=2)\n",
    "#Open = cv2.morphologyEx(Close, cv2.MORPH_OPEN, shape, iterations=2)\n",
    "\n",
    "cut = cv2.bitwise_and(I, I, mask=Close)\n",
    "\n",
    "cv2.imshow(\"image\", I)\n",
    "#cv2.imshow(\"hsv\", hsv)\n",
    "#cv2.imshow(\"blue\", b)\n",
    "#cv2.imshow(\"green\", g)\n",
    "#cv2.imshow(\"red\", r)\n",
    "#cv2.imshow(\"mask\", B)\n",
    "cv2.imshow(\"dilate\", dilated)\n",
    "cv2.imshow(\"close\", Close)\n",
    "#cv2.imshow(\"open\", Open)\n",
    "cv2.imshow(\"cut\",cut)\n",
    "\n",
    "Video.release()\n",
    "cv2.waitKey(0)\n",
    "cv2.destroyAllWindows()"
   ]
  },
  {
   "cell_type": "code",
   "execution_count": null,
   "metadata": {},
   "outputs": [],
   "source": []
  },
  {
   "cell_type": "code",
   "execution_count": null,
   "metadata": {},
   "outputs": [],
   "source": []
  }
 ],
 "metadata": {
  "kernelspec": {
   "display_name": "Python 3",
   "language": "python",
   "name": "python3"
  },
  "language_info": {
   "codemirror_mode": {
    "name": "ipython",
    "version": 3
   },
   "file_extension": ".py",
   "mimetype": "text/x-python",
   "name": "python",
   "nbconvert_exporter": "python",
   "pygments_lexer": "ipython3",
   "version": "3.8.5"
  }
 },
 "nbformat": 4,
 "nbformat_minor": 4
}
